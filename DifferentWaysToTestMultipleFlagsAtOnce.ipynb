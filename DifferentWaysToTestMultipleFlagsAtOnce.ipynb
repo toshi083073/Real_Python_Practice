{
 "cells": [
  {
   "cell_type": "code",
   "execution_count": 2,
   "metadata": {},
   "outputs": [
    {
     "name": "stdout",
     "output_type": "stream",
     "text": [
      "passed\n",
      "passed\n"
     ]
    }
   ],
   "source": [
    "# flags at once in python\n",
    "x, y, z = 0, 1, 0\n",
    "if x == 1 or y == 1 or z == 1:\n",
    "    print('passed')\n",
    "\n",
    "if 1 in (x, y, z):\n",
    "    print('passed')\n"
   ]
  },
  {
   "cell_type": "code",
   "execution_count": 3,
   "metadata": {},
   "outputs": [
    {
     "name": "stdout",
     "output_type": "stream",
     "text": [
      "passed\n",
      "passed\n"
     ]
    }
   ],
   "source": [
    "# These only test for truthiness:\n",
    "if x or y or z:\n",
    "    print('passed')\n",
    "    ggit \n",
    "if any((x, y, x)):\n",
    "    print('passed')\n"
   ]
  }
 ],
 "metadata": {
  "interpreter": {
   "hash": "39cc6df68b3c30c6e1d76fe5e5c62d48eb75c53005791a1a6039d5bed3f8361a"
  },
  "kernelspec": {
   "display_name": "Python 3.8.10 64-bit ('anaconda3-2020.07': pyenv)",
   "language": "python",
   "name": "python3"
  },
  "language_info": {
   "codemirror_mode": {
    "name": "ipython",
    "version": 3
   },
   "file_extension": ".py",
   "mimetype": "text/x-python",
   "name": "python",
   "nbconvert_exporter": "python",
   "pygments_lexer": "ipython3",
   "version": "3.8.10"
  },
  "orig_nbformat": 4
 },
 "nbformat": 4,
 "nbformat_minor": 2
}
